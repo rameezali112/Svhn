{
 "cells": [
  {
   "cell_type": "code",
   "execution_count": 11,
   "metadata": {
    "execution": {
     "iopub.execute_input": "2024-10-01T13:14:56.677909Z",
     "iopub.status.busy": "2024-10-01T13:14:56.677239Z",
     "iopub.status.idle": "2024-10-01T13:14:56.684733Z",
     "shell.execute_reply": "2024-10-01T13:14:56.683815Z",
     "shell.execute_reply.started": "2024-10-01T13:14:56.677870Z"
    }
   },
   "outputs": [],
   "source": [
    "import numpy as np\n",
    "import matplotlib.pyplot as plt\n",
    "import seaborn as sns\n",
    "from scipy.io import loadmat\n",
    "from skimage import color\n",
    "from skimage import io\n",
    "from sklearn.model_selection import train_test_split\n",
    "\n",
    "%matplotlib inline\n",
    "plt.rcParams['figure.figsize'] = (16.0, 4.0)\n"
   ]
  },
  {
   "cell_type": "code",
   "execution_count": 12,
   "metadata": {
    "execution": {
     "iopub.execute_input": "2024-10-01T13:14:57.699501Z",
     "iopub.status.busy": "2024-10-01T13:14:57.698746Z",
     "iopub.status.idle": "2024-10-01T13:14:59.963242Z",
     "shell.execute_reply": "2024-10-01T13:14:59.962293Z",
     "shell.execute_reply.started": "2024-10-01T13:14:57.699458Z"
    }
   },
   "outputs": [
    {
     "name": "stdout",
     "output_type": "stream",
     "text": [
      "Training Set (32, 32, 3, 73257) (73257, 1)\n",
      "Test Set (32, 32, 3, 26032) (26032, 1)\n"
     ]
    }
   ],
   "source": [
    "def load_data(path):\n",
    "    \"\"\" Helper function for loading a MAT-File\"\"\"\n",
    "    data = loadmat(path)\n",
    "    return data['X'], data['y']\n",
    "\n",
    "X_train, y_train = load_data(\"/kaggle/input/svhndataset/train_32x32.mat\")\n",
    "X_test, y_test = load_data(\"/kaggle/input/svhndataset/test_32x32.mat\")\n",
    "\n",
    "print(\"Training Set\", X_train.shape, y_train.shape)\n",
    "print(\"Test Set\", X_test.shape, y_test.shape)"
   ]
  },
  {
   "cell_type": "code",
   "execution_count": 13,
   "metadata": {
    "execution": {
     "iopub.execute_input": "2024-10-01T13:15:01.415541Z",
     "iopub.status.busy": "2024-10-01T13:15:01.415138Z",
     "iopub.status.idle": "2024-10-01T13:15:01.420977Z",
     "shell.execute_reply": "2024-10-01T13:15:01.420016Z",
     "shell.execute_reply.started": "2024-10-01T13:15:01.415503Z"
    }
   },
   "outputs": [],
   "source": [
    "# Transpose the image arrays\n",
    "X_train, y_train = X_train.transpose((3,0,1,2)), y_train[:,0]\n",
    "X_test, y_test = X_test.transpose((3,0,1,2)), y_test[:,0]"
   ]
  },
  {
   "cell_type": "code",
   "execution_count": 14,
   "metadata": {
    "execution": {
     "iopub.execute_input": "2024-10-01T13:15:04.462493Z",
     "iopub.status.busy": "2024-10-01T13:15:04.461599Z",
     "iopub.status.idle": "2024-10-01T13:15:04.466994Z",
     "shell.execute_reply": "2024-10-01T13:15:04.466039Z",
     "shell.execute_reply.started": "2024-10-01T13:15:04.462441Z"
    }
   },
   "outputs": [
    {
     "name": "stdout",
     "output_type": "stream",
     "text": [
      "Training Set (73257, 32, 32, 3)\n",
      "Test Set (26032, 32, 32, 3)\n"
     ]
    }
   ],
   "source": [
    "print(\"Training Set\", X_train.shape)\n",
    "print(\"Test Set\", X_test.shape)"
   ]
  },
  {
   "cell_type": "code",
   "execution_count": 15,
   "metadata": {
    "execution": {
     "iopub.execute_input": "2024-10-01T13:15:12.118400Z",
     "iopub.status.busy": "2024-10-01T13:15:12.118026Z",
     "iopub.status.idle": "2024-10-01T13:15:12.124954Z",
     "shell.execute_reply": "2024-10-01T13:15:12.123789Z",
     "shell.execute_reply.started": "2024-10-01T13:15:12.118366Z"
    }
   },
   "outputs": [
    {
     "data": {
      "text/plain": [
       "(73257, 32, 32, 3)"
      ]
     },
     "execution_count": 15,
     "metadata": {},
     "output_type": "execute_result"
    }
   ],
   "source": [
    "X_train.shape"
   ]
  },
  {
   "cell_type": "code",
   "execution_count": 16,
   "metadata": {
    "execution": {
     "iopub.execute_input": "2024-10-01T13:15:18.918377Z",
     "iopub.status.busy": "2024-10-01T13:15:18.917576Z",
     "iopub.status.idle": "2024-10-01T13:15:18.923941Z",
     "shell.execute_reply": "2024-10-01T13:15:18.922921Z",
     "shell.execute_reply.started": "2024-10-01T13:15:18.918340Z"
    }
   },
   "outputs": [
    {
     "data": {
      "text/plain": [
       "(73257,)"
      ]
     },
     "execution_count": 16,
     "metadata": {},
     "output_type": "execute_result"
    }
   ],
   "source": [
    "y_train.shape"
   ]
  },
  {
   "cell_type": "code",
   "execution_count": 17,
   "metadata": {
    "execution": {
     "iopub.execute_input": "2024-10-01T13:15:25.906998Z",
     "iopub.status.busy": "2024-10-01T13:15:25.906632Z",
     "iopub.status.idle": "2024-10-01T13:15:25.913165Z",
     "shell.execute_reply": "2024-10-01T13:15:25.912191Z",
     "shell.execute_reply.started": "2024-10-01T13:15:25.906963Z"
    }
   },
   "outputs": [
    {
     "data": {
      "text/plain": [
       "1"
      ]
     },
     "execution_count": 17,
     "metadata": {},
     "output_type": "execute_result"
    }
   ],
   "source": [
    "y_train[0]"
   ]
  },
  {
   "cell_type": "code",
   "execution_count": 18,
   "metadata": {
    "execution": {
     "iopub.execute_input": "2024-10-01T13:15:38.426594Z",
     "iopub.status.busy": "2024-10-01T13:15:38.426164Z",
     "iopub.status.idle": "2024-10-01T13:15:38.433595Z",
     "shell.execute_reply": "2024-10-01T13:15:38.432487Z",
     "shell.execute_reply.started": "2024-10-01T13:15:38.426546Z"
    }
   },
   "outputs": [
    {
     "data": {
      "text/plain": [
       "(32, 32, 3)"
      ]
     },
     "execution_count": 18,
     "metadata": {},
     "output_type": "execute_result"
    }
   ],
   "source": [
    "X_train[0].shape"
   ]
  },
  {
   "cell_type": "code",
   "execution_count": null,
   "metadata": {},
   "outputs": [],
   "source": []
  }
 ],
 "metadata": {
  "kaggle": {
   "accelerator": "nvidiaTeslaT4",
   "dataSources": [
    {
     "datasetId": 4789,
     "sourceId": 7442,
     "sourceType": "datasetVersion"
    }
   ],
   "dockerImageVersionId": 30776,
   "isGpuEnabled": true,
   "isInternetEnabled": true,
   "language": "python",
   "sourceType": "notebook"
  },
  "kernelspec": {
   "display_name": "Python 3 (ipykernel)",
   "language": "python",
   "name": "python3"
  },
  "language_info": {
   "codemirror_mode": {
    "name": "ipython",
    "version": 3
   },
   "file_extension": ".py",
   "mimetype": "text/x-python",
   "name": "python",
   "nbconvert_exporter": "python",
   "pygments_lexer": "ipython3",
   "version": "3.12.4"
  }
 },
 "nbformat": 4,
 "nbformat_minor": 4
}
